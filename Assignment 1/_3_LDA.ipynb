{
 "cells": [
  {
   "cell_type": "code",
   "execution_count": 7,
   "id": "ae64d3dd",
   "metadata": {},
   "outputs": [],
   "source": [
    "from _3_LDA import *\n",
    "import pandas as pd"
   ]
  },
  {
   "cell_type": "code",
   "execution_count": 8,
   "id": "9c2677b8",
   "metadata": {},
   "outputs": [],
   "source": [
    "df = pd.read_pickle('./Data/Throughput/Speeches_processed_Happiness.pickle')"
   ]
  },
  {
   "cell_type": "code",
   "execution_count": 9,
   "id": "ea6198f1",
   "metadata": {},
   "outputs": [],
   "source": [
    "df['presentation'] = df['Speech']"
   ]
  },
  {
   "cell_type": "code",
   "execution_count": 12,
   "id": "c0def56d",
   "metadata": {},
   "outputs": [
    {
     "name": "stderr",
     "output_type": "stream",
     "text": [
      "[nltk_data] Downloading package wordnet to\n",
      "[nltk_data]     /Users/janjaniszewski/nltk_data...\n",
      "[nltk_data]   Package wordnet is already up-to-date!\n",
      "[nltk_data] Downloading package omw-1.4 to\n",
      "[nltk_data]     /Users/janjaniszewski/nltk_data...\n",
      "[nltk_data]   Package omw-1.4 is already up-to-date!\n"
     ]
    },
    {
     "name": "stdout",
     "output_type": "stream",
     "text": [
      "Number of unique tokens: 7585\n",
      "Number of documents: 1375\n"
     ]
    }
   ],
   "source": [
    "presentations = LDA_preprocess2(df['presentation'])"
   ]
  }
 ],
 "metadata": {
  "kernelspec": {
   "display_name": "Python 3 (ipykernel)",
   "language": "python",
   "name": "python3"
  },
  "language_info": {
   "codemirror_mode": {
    "name": "ipython",
    "version": 3
   },
   "file_extension": ".py",
   "mimetype": "text/x-python",
   "name": "python",
   "nbconvert_exporter": "python",
   "pygments_lexer": "ipython3",
   "version": "3.8.9"
  }
 },
 "nbformat": 4,
 "nbformat_minor": 5
}
