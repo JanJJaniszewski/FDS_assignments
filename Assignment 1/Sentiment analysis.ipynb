{
 "cells": [
  {
   "cell_type": "markdown",
   "id": "ec08fb5f",
   "metadata": {},
   "source": [
    "### Preprocess data"
   ]
  },
  {
   "cell_type": "code",
   "execution_count": 2,
   "id": "50acbd1b",
   "metadata": {},
   "outputs": [
    {
     "name": "stderr",
     "output_type": "stream",
     "text": [
      "[nltk_data] Error loading punkt: <urlopen error [SSL:\n",
      "[nltk_data]     CERTIFICATE_VERIFY_FAILED] certificate verify failed:\n",
      "[nltk_data]     unable to get local issuer certificate (_ssl.c:1122)>\n",
      "[nltk_data] Error loading stopwords: <urlopen error [SSL:\n",
      "[nltk_data]     CERTIFICATE_VERIFY_FAILED] certificate verify failed:\n",
      "[nltk_data]     unable to get local issuer certificate (_ssl.c:1122)>\n",
      "[nltk_data] Error loading vader_lexicon: <urlopen error [SSL:\n",
      "[nltk_data]     CERTIFICATE_VERIFY_FAILED] certificate verify failed:\n",
      "[nltk_data]     unable to get local issuer certificate (_ssl.c:1122)>\n",
      "[nltk_data] Downloading package punkt to /Users/Bono/nltk_data...\n",
      "[nltk_data]   Package punkt is already up-to-date!\n",
      "[nltk_data] Downloading package stopwords to /Users/Bono/nltk_data...\n",
      "[nltk_data]   Package stopwords is already up-to-date!\n",
      "[nltk_data] Downloading package vader_lexicon to\n",
      "[nltk_data]     /Users/Bono/nltk_data...\n",
      "[nltk_data]   Package vader_lexicon is already up-to-date!\n"
     ]
    },
    {
     "data": {
      "text/plain": [
       "True"
      ]
     },
     "execution_count": 2,
     "metadata": {},
     "output_type": "execute_result"
    }
   ],
   "source": [
    "# import labraries\n",
    "import pandas as pd\n",
    "from os import walk\n",
    "import os\n",
    "import nltk\n",
    "import pandas as pd\n",
    "from nltk.probability import FreqDist\n",
    "from nltk import word_tokenize\n",
    "from nltk.corpus import stopwords\n",
    "from utils import * \n",
    "import numpy as np\n",
    "\n",
    "# import NLTK and installing resources\n",
    "import nltk\n",
    "import ssl\n",
    "\n",
    "try:\n",
    "    _create_unverified_https_context = ssl._create_unverified_context\n",
    "except AttributeError:\n",
    "    pass\n",
    "else:\n",
    "    ssl._create_default_https_context = _create_unverified_https_context\n",
    "    \n",
    "nltk.download('punkt')\n",
    "nltk.download('stopwords')\n",
    "nltk.download('vader_lexicon')"
   ]
  },
  {
   "cell_type": "code",
   "execution_count": 3,
   "id": "e2199506",
   "metadata": {},
   "outputs": [],
   "source": [
    "import os\n",
    "import numpy as np\n",
    "import pandas as pd\n",
    "\n",
    "# selecting the sessions\n",
    "sessions = np.arange(55, 72)\n",
    "data=[]\n",
    "\n",
    "for session in sessions:\n",
    "    directory = \"./Data/TXT/Session \"+str(session)+\" - \"+str(1945+session)\n",
    "    for filename in os.listdir(directory):\n",
    "        f = open(os.path.join(directory, filename), encoding=\"utf8\")\n",
    "        if filename[0]==\".\": #ignore hidden files\n",
    "            continue\n",
    "        splt = filename.split(\"_\")\n",
    "        data.append([session, 1945+session, splt[0], f.read()])\n",
    "\n",
    "        \n",
    "df_speech = pd.DataFrame(data, columns=['Session','Year','ISO-alpha3 Code','Speech'])"
   ]
  },
  {
   "cell_type": "code",
   "execution_count": 4,
   "id": "db51a79b",
   "metadata": {},
   "outputs": [],
   "source": [
    "df_speech.to_pickle('./Data/Throughput/Speeches_original.pickle')"
   ]
  },
  {
   "cell_type": "code",
   "execution_count": 5,
   "id": "29255fd3",
   "metadata": {},
   "outputs": [],
   "source": [
    "preprocessing_steps = ['prep_lower', \n",
    "                             'prep_tokenizewords', \n",
    "#                              'prep_drop_sentenceindicators', \n",
    "#                              'prep_drop_numbers', \n",
    "                             'prep_drop_stopwords',\n",
    "#                        'prep_listtosentence'\n",
    "                      ]"
   ]
  },
  {
   "cell_type": "code",
   "execution_count": 6,
   "id": "f2278d8e",
   "metadata": {},
   "outputs": [],
   "source": [
    "df_speech['speech'] = preprocess(df_speech['Speech'], preprocessing_steps)"
   ]
  },
  {
   "cell_type": "code",
   "execution_count": 7,
   "id": "b5b06993",
   "metadata": {},
   "outputs": [],
   "source": [
    "df_speech.to_pickle('./Data/Throughput/Speeches_preprocessed.pickle')"
   ]
  },
  {
   "cell_type": "code",
   "execution_count": 9,
   "id": "b450b489",
   "metadata": {},
   "outputs": [],
   "source": [
    "df_happy = pd.read_excel('./Data/DataForTable2.1.xls')\n",
    "df_happy = df_happy.rename({'year': 'Year'}, axis=1)\n",
    "df_mapping = pd.read_csv('./Data/mapping_countries.csv')[['Country name', 'ISO-alpha3 Code']]"
   ]
  },
  {
   "cell_type": "code",
   "execution_count": 10,
   "id": "f7ae573d",
   "metadata": {},
   "outputs": [],
   "source": [
    "pd_final = pd.merge(pd.merge(df_happy, df_mapping, on='Country name'), df_speech, on=['ISO-alpha3 Code', 'Year'])"
   ]
  },
  {
   "cell_type": "code",
   "execution_count": 11,
   "id": "083d9562",
   "metadata": {},
   "outputs": [],
   "source": [
    "pd_final.to_pickle('./Data/Throughput/Speeches_processed_Happiness.pickle')"
   ]
  },
  {
   "cell_type": "markdown",
   "id": "25bc053c",
   "metadata": {},
   "source": [
    "### Sentiment analysis"
   ]
  },
  {
   "cell_type": "code",
   "execution_count": 12,
   "id": "29f57ae3",
   "metadata": {},
   "outputs": [
    {
     "name": "stdout",
     "output_type": "stream",
     "text": [
      "Year\n",
      "2005    Australia is a founding\\nMember of the United ...\n",
      "2006    I would \\nlike to congratulate you, Ms. Al-Kha...\n",
      "2007    Please allow me, Sir, to \\ncongratulate you on...\n",
      "2008    Since the last time we \\ngathered here in this...\n",
      "2009    First, I would like to \\ncongratulate His Exce...\n",
      "2010    I join previous \\nspeakers in congratulating y...\n",
      "2011    I am honoured to be \\nhere to read the stateme...\n",
      "2012    ﻿As we speak today, the world\\nis being shaken...\n",
      "2013    I bring to all warm \\ngreetings and the good w...\n",
      "2014    It gives me \\ngreat pleasure to express my sin...\n",
      "2015    It gives me great pleasure, on behalf of the I...\n",
      "2016    It is my distinct pleasure to attend the seven...\n",
      "Name: Speech, dtype: object\n"
     ]
    }
   ],
   "source": [
    "# read file\n",
    "df_final = pd.read_pickle('./Data/Throughput/Speeches_processed_Happiness.pickle')\n",
    "df_final\n",
    "\n",
    "# database with words per year\n",
    "words_by_year = df_final.groupby('Year')['Speech'].sum()"
   ]
  },
  {
   "cell_type": "code",
   "execution_count": 13,
   "id": "13ffdce9",
   "metadata": {},
   "outputs": [],
   "source": [
    "for i in range(2005, 2017):\n",
    "    words_by_year[i] = words_by_year[i].replace(\"\\n\", \" \")"
   ]
  },
  {
   "cell_type": "code",
   "execution_count": 15,
   "id": "d9cd336d",
   "metadata": {},
   "outputs": [
    {
     "name": "stdout",
     "output_type": "stream",
     "text": [
      "2005 Done\n",
      "2006 Done\n",
      "2007 Done\n",
      "2008 Done\n",
      "2009 Done\n",
      "2010 Done\n",
      "2011 Done\n",
      "2012 Done\n",
      "2013 Done\n",
      "2014 Done\n",
      "2015 Done\n",
      "2016 Done\n"
     ]
    }
   ],
   "source": [
    "from nltk.sentiment import SentimentIntensityAnalyzer\n",
    "import matplotlib.pyplot as plt\n",
    "\n",
    "sia = SentimentIntensityAnalyzer()\n",
    "\n",
    "sentences = words_by_year[2005].split(\". \")\n",
    "scores_2005 = []\n",
    "for i in sentences:\n",
    "    compound_score = sia.polarity_scores(i)['compound']\n",
    "    scores_2005.append(compound_score)\n",
    "print(\"2005 Done\")\n",
    "    \n",
    "sentences = words_by_year[2006].split(\". \")\n",
    "scores_2006 = []\n",
    "for i in sentences:\n",
    "    compound_score = sia.polarity_scores(i)['compound']\n",
    "    scores_2006.append(compound_score)\n",
    "print(\"2006 Done\")\n",
    "    \n",
    "sentences = words_by_year[2007].split(\". \")\n",
    "scores_2007 = []\n",
    "for i in sentences:\n",
    "    compound_score = sia.polarity_scores(i)['compound']\n",
    "    scores_2007.append(compound_score)\n",
    "print(\"2007 Done\")  \n",
    "\n",
    "sentences = words_by_year[2008].split(\". \")\n",
    "scores_2008 = []\n",
    "for i in sentences:\n",
    "    compound_score = sia.polarity_scores(i)['compound']\n",
    "    scores_2008.append(compound_score)\n",
    "print(\"2008 Done\") \n",
    "\n",
    "sentences = words_by_year[2009].split(\". \")\n",
    "scores_2009 = []\n",
    "for i in sentences:\n",
    "    compound_score = sia.polarity_scores(i)['compound']\n",
    "    scores_2009.append(compound_score)\n",
    "print(\"2009 Done\")   \n",
    "\n",
    "sentences = words_by_year[2010].split(\". \")\n",
    "scores_2010 = []\n",
    "for i in sentences:\n",
    "    compound_score = sia.polarity_scores(i)['compound']\n",
    "    scores_2010.append(compound_score)\n",
    "print(\"2010 Done\")\n",
    "    \n",
    "sentences = words_by_year[2011].split(\". \")\n",
    "scores_2011 = []\n",
    "for i in sentences:\n",
    "    compound_score = sia.polarity_scores(i)['compound']\n",
    "    scores_2011.append(compound_score)\n",
    "print(\"2011 Done\")\n",
    "    \n",
    "sentences = words_by_year[2012].split(\". \")\n",
    "scores_2012 = []\n",
    "for i in sentences:\n",
    "    compound_score = sia.polarity_scores(i)['compound']\n",
    "    scores_2012.append(compound_score)\n",
    "print(\"2012 Done\")\n",
    "    \n",
    "sentences = words_by_year[2013].split(\". \")\n",
    "scores_2013 = []\n",
    "for i in sentences:\n",
    "    compound_score = sia.polarity_scores(i)['compound']\n",
    "    scores_2013.append(compound_score)\n",
    "print(\"2013 Done\")\n",
    "    \n",
    "sentences = words_by_year[2014].split(\". \")\n",
    "scores_2014 = []\n",
    "for i in sentences:\n",
    "    compound_score = sia.polarity_scores(i)['compound']\n",
    "    scores_2014.append(compound_score)\n",
    "print(\"2014 Done\")\n",
    "    \n",
    "sentences = words_by_year[2015].split(\". \")\n",
    "scores_2015 = []\n",
    "for i in sentences:\n",
    "    compound_score = sia.polarity_scores(i)['compound']\n",
    "    scores_2015.append(compound_score)\n",
    "print(\"2015 Done\")  \n",
    "\n",
    "sentences = words_by_year[2016].split(\". \")\n",
    "scores_2016 = []\n",
    "for i in sentences:\n",
    "    compound_score = sia.polarity_scores(i)['compound']\n",
    "    scores_2016.append(compound_score)\n",
    "print(\"2016 Done\")\n"
   ]
  },
  {
   "cell_type": "code",
   "execution_count": 16,
   "id": "c4bda33e",
   "metadata": {},
   "outputs": [],
   "source": [
    "# get mean compund scores\n",
    "average_comp_score_2005_2016 = [\n",
    "    np.mean(scores_2005),\n",
    "    np.mean(scores_2006),\n",
    "    np.mean(scores_2007),\n",
    "    np.mean(scores_2008),\n",
    "    np.mean(scores_2009),\n",
    "    np.mean(scores_2010),\n",
    "    np.mean(scores_2011),\n",
    "    np.mean(scores_2012),\n",
    "    np.mean(scores_2013),\n",
    "    np.mean(scores_2014),\n",
    "    np.mean(scores_2015),\n",
    "    np.mean(scores_2016),\n",
    "]\n"
   ]
  },
  {
   "cell_type": "code",
   "execution_count": 17,
   "id": "7bf806c1",
   "metadata": {},
   "outputs": [
    {
     "data": {
      "image/png": "[encoded data removed]",
      "text/plain": [
       "<Figure size 432x288 with 1 Axes>"
      ]
     },
     "metadata": {},
     "output_type": "display_data"
    }
   ],
   "source": [
    "import matplotlib.pyplot as plt\n",
    "import seaborn as sns\n",
    "sns.set()\n",
    "fig, ax = plt.subplots()\n",
    "ax.plot(np.arange(2005, 2017), average_comp_score_2005_2016)\n",
    "ax.legend(['Averge Compound score'])\n",
    "plt.xlabel(\"Years\")\n",
    "plt.ylabel(\"Counpound score\")\n",
    "plt.title(\"Average sentiment compound scores UN General Debate speeches, 2005 - 2016\")\n",
    "plt.savefig('Compound_score.png')\n",
    "plt.show()\n"
   ]
  },
  {
   "cell_type": "code",
   "execution_count": 22,
   "id": "34ca10ce",
   "metadata": {},
   "outputs": [
    {
     "data": {
      "text/plain": [
       "14136"
      ]
     },
     "execution_count": 22,
     "metadata": {},
     "output_type": "execute_result"
    }
   ],
   "source": [
    "# testing significant difference between positivity in 2007 and 2008\n",
    "from scipy import stats\n",
    "\n",
    "# #degrees of freedom = N1 + N2 -2\n",
    "degrees = len(scores_2007) + len(scores_2008) -2\n",
    "\n",
    "# # testing if significant difference in compound scores\n",
    "stats.ttest_ind(scores_2007, scores_2008)\n"
   ]
  }
 ],
 "metadata": {
  "kernelspec": {
   "display_name": "Python 3 (ipykernel)",
   "language": "python",
   "name": "python3"
  },
  "language_info": {
   "codemirror_mode": {
    "name": "ipython",
    "version": 3
   },
   "file_extension": ".py",
   "mimetype": "text/x-python",
   "name": "python",
   "nbconvert_exporter": "python",
   "pygments_lexer": "ipython3",
   "version": "3.9.0"
  }
 },
 "nbformat": 4,
 "nbformat_minor": 5
}
