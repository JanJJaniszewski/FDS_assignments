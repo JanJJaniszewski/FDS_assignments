{
 "cells": [
  {
   "cell_type": "code",
   "execution_count": null,
   "outputs": [],
   "source": [
    "import pandas as pd\n",
    "from os import walk\n",
    "import os\n",
    "import nltk\n",
    "import pandas as pd\n",
    "from nltk.probability import FreqDist\n",
    "from nltk import word_tokenize\n",
    "from nltk.corpus import stopwords\n",
    "from utils import * \n",
    "import os\n",
    "import numpy as np\n",
    "import pandas as pd\n",
    "import math"
   ],
   "metadata": {
    "collapsed": false,
    "pycharm": {
     "name": "#%%\n"
    }
   }
  },
  {
   "cell_type": "code",
   "execution_count": null,
   "outputs": [],
   "source": [
    "sessions = np.arange(25, 76)\n",
    "data=[]\n",
    "\n",
    "for session in sessions:\n",
    "    directory = \"./Data/TXT/Session \"+str(session)+\" - \"+str(1945+session)\n",
    "    for filename in os.listdir(directory):\n",
    "        f = open(os.path.join(directory, filename), encoding=\"utf8\")\n",
    "        if filename[0]==\".\": #ignore hidden files\n",
    "            continue\n",
    "        splt = filename.split(\"_\")\n",
    "        data.append([session, 1945+session, splt[0], f.read()])\n",
    "\n",
    "        \n",
    "df_speech = pd.DataFrame(data, columns=['Session','Year','ISO-alpha3 Code','Speech'])\n",
    "\n",
    "df_speech.tail()"
   ],
   "metadata": {
    "collapsed": false,
    "pycharm": {
     "name": "#%%\n"
    }
   }
  },
  {
   "cell_type": "code",
   "execution_count": null,
   "outputs": [],
   "source": [
    "df_speech.to_pickle('./Data/Throughput/Speeches_original.pickle')"
   ],
   "metadata": {
    "collapsed": false,
    "pycharm": {
     "name": "#%%\n"
    }
   }
  },
  {
   "cell_type": "code",
   "execution_count": null,
   "outputs": [],
   "source": [
    "preprocessing_steps = ['prep_lower', \n",
    "                             'prep_tokenizewords', \n",
    "                             'prep_drop_sentenceindicators', \n",
    "                             'prep_drop_numbers', \n",
    "                             'prep_drop_stopwords',\n",
    "                       'prep_listtosentence'\n",
    "                      ]\n"
   ],
   "metadata": {
    "collapsed": false,
    "pycharm": {
     "name": "#%%\n"
    }
   }
  },
  {
   "cell_type": "code",
   "execution_count": null,
   "outputs": [],
   "source": [
    "#df_speech = df_speech.set_index(['Session', 'Year', 'ISO-alpha3 Code'])\n",
    "df_speech['speech'] = preprocess(df_speech['Speech'], preprocessing_steps)"
   ],
   "metadata": {
    "collapsed": false,
    "pycharm": {
     "name": "#%%\n"
    }
   }
  },
  {
   "cell_type": "code",
   "execution_count": null,
   "outputs": [],
   "source": [
    "df_speech.to_pickle('./Data/Throughput/Speeches_preprocessed.pickle')"
   ],
   "metadata": {
    "collapsed": false,
    "pycharm": {
     "name": "#%%\n"
    }
   }
  },
  {
   "cell_type": "code",
   "execution_count": null,
   "outputs": [],
   "source": [
    "df_happy = pd.read_excel('./Data/DataForTable2.1.xls')\n",
    "df_happy = df_happy.rename({'year': 'Year'}, axis=1)\n",
    "df_mapping = pd.read_csv('./Data/mapping_countries.csv')[['Country name', 'ISO-alpha3 Code']]"
   ],
   "metadata": {
    "collapsed": false,
    "pycharm": {
     "name": "#%%\n"
    }
   }
  },
  {
   "cell_type": "code",
   "execution_count": null,
   "outputs": [],
   "source": [
    "pd_final = pd.merge(pd.merge(df_happy, df_mapping, on='Country name'), df_speech, on=['ISO-alpha3 Code', 'Year'])"
   ],
   "metadata": {
    "collapsed": false,
    "pycharm": {
     "name": "#%%\n"
    }
   }
  },
  {
   "cell_type": "code",
   "execution_count": null,
   "outputs": [],
   "source": [
    "pd_final['GDP per capita'] = pd_final['Log GDP per capita'].apply(math.exp)"
   ],
   "metadata": {
    "collapsed": false,
    "pycharm": {
     "name": "#%%\n"
    }
   }
  },
  {
   "cell_type": "code",
   "execution_count": null,
   "outputs": [],
   "source": [
    "pd_final['GDP per capita_delta_abs'] = pd_final.groupby('Country name')['GDP per capita'].diff()\n",
    "pd_final['GDP per capita_delta_rel'] = pd_final['GDP per capita_delta_abs'] / pd_final['GDP per capita'].shift(1)\n",
    "pd_final = pd_final.dropna()\n",
    "pd_final['sentiment'] = pd.cut(pd_final['GDP per capita_delta_rel'], bins = [-99, 0, 0.03, 10], labels =['negative','neutral', 'positive'])"
   ],
   "metadata": {
    "collapsed": false,
    "pycharm": {
     "name": "#%%\n"
    }
   }
  },
  {
   "cell_type": "code",
   "execution_count": null,
   "outputs": [],
   "source": [
    "pd_final[['Country name', 'Year','GDP', 'GDP per capita_delta_abs', 'GDP per capita_delta_rel']].loc[pd_final['Country name'] =='Germany']\n"
   ],
   "metadata": {
    "collapsed": false,
    "pycharm": {
     "name": "#%%\n"
    }
   }
  },
  {
   "cell_type": "code",
   "execution_count": null,
   "outputs": [],
   "source": [
    "pd_final.head()"
   ],
   "metadata": {
    "collapsed": false,
    "pycharm": {
     "name": "#%%\n"
    }
   }
  },
  {
   "cell_type": "code",
   "execution_count": null,
   "outputs": [],
   "source": [
    "pd_final.to_pickle('./Data/Throughput/Speeches_processed_Happiness.pickle')\n",
    "pd_final[['Speech', 'sentiment']].to_csv('./Data/Throughput/Speeches_BERT.csv')"
   ],
   "metadata": {
    "collapsed": false,
    "pycharm": {
     "name": "#%%\n"
    }
   }
  },
  {
   "cell_type": "code",
   "execution_count": null,
   "outputs": [],
   "source": [
    "pd_final[['Speech', 'sentiment']]"
   ],
   "metadata": {
    "collapsed": false,
    "pycharm": {
     "name": "#%%\n"
    }
   }
  },
  {
   "cell_type": "code",
   "execution_count": 58,
   "metadata": {},
   "outputs": [],
   "source": [
    "pd_final['GDP per capita_delta_abs'] = pd_final.groupby('Country name')['GDP per capita'].diff()\n",
    "pd_final['GDP per capita_delta_rel'] = pd_final['GDP per capita_delta_abs'] / pd_final['GDP per capita'].shift(1)\n",
    "pd_final = pd_final.dropna()\n",
    "pd_final['sentiment'] = pd.cut(pd_final['GDP per capita_delta_rel'], bins = [-99, 0, 0.03, 10], labels =['negative','neutral', 'positive'])"
   ]
  },
  {
   "cell_type": "code",
   "execution_count": 43,
   "metadata": {},
   "outputs": [
    {
     "data": {
      "text/html": [
       "<div>\n",
       "<style scoped>\n",
       "    .dataframe tbody tr th:only-of-type {\n",
       "        vertical-align: middle;\n",
       "    }\n",
       "\n",
       "    .dataframe tbody tr th {\n",
       "        vertical-align: top;\n",
       "    }\n",
       "\n",
       "    .dataframe thead th {\n",
       "        text-align: right;\n",
       "    }\n",
       "</style>\n",
       "<table border=\"1\" class=\"dataframe\">\n",
       "  <thead>\n",
       "    <tr style=\"text-align: right;\">\n",
       "      <th></th>\n",
       "      <th>Country name</th>\n",
       "      <th>Year</th>\n",
       "      <th>GDP</th>\n",
       "      <th>GDP per capita_delta_abs</th>\n",
       "      <th>GDP per capita_delta_rel</th>\n",
       "    </tr>\n",
       "  </thead>\n",
       "  <tbody>\n",
       "    <tr>\n",
       "      <th>578</th>\n",
       "      <td>Germany</td>\n",
       "      <td>2007</td>\n",
       "      <td>47100.610273</td>\n",
       "      <td>3151.305529</td>\n",
       "      <td>0.071703</td>\n",
       "    </tr>\n",
       "    <tr>\n",
       "      <th>580</th>\n",
       "      <td>Germany</td>\n",
       "      <td>2009</td>\n",
       "      <td>45044.468251</td>\n",
       "      <td>-2598.761642</td>\n",
       "      <td>-0.054546</td>\n",
       "    </tr>\n",
       "    <tr>\n",
       "      <th>581</th>\n",
       "      <td>Germany</td>\n",
       "      <td>2010</td>\n",
       "      <td>46999.248284</td>\n",
       "      <td>1954.780033</td>\n",
       "      <td>0.043397</td>\n",
       "    </tr>\n",
       "    <tr>\n",
       "      <th>582</th>\n",
       "      <td>Germany</td>\n",
       "      <td>2011</td>\n",
       "      <td>49757.933330</td>\n",
       "      <td>2758.685046</td>\n",
       "      <td>0.058696</td>\n",
       "    </tr>\n",
       "    <tr>\n",
       "      <th>583</th>\n",
       "      <td>Germany</td>\n",
       "      <td>2012</td>\n",
       "      <td>49872.426252</td>\n",
       "      <td>114.492922</td>\n",
       "      <td>0.002301</td>\n",
       "    </tr>\n",
       "    <tr>\n",
       "      <th>584</th>\n",
       "      <td>Germany</td>\n",
       "      <td>2013</td>\n",
       "      <td>49954.157192</td>\n",
       "      <td>81.730941</td>\n",
       "      <td>0.001639</td>\n",
       "    </tr>\n",
       "    <tr>\n",
       "      <th>585</th>\n",
       "      <td>Germany</td>\n",
       "      <td>2014</td>\n",
       "      <td>50845.548282</td>\n",
       "      <td>891.391089</td>\n",
       "      <td>0.017844</td>\n",
       "    </tr>\n",
       "    <tr>\n",
       "      <th>586</th>\n",
       "      <td>Germany</td>\n",
       "      <td>2015</td>\n",
       "      <td>51159.273288</td>\n",
       "      <td>313.725006</td>\n",
       "      <td>0.006170</td>\n",
       "    </tr>\n",
       "    <tr>\n",
       "      <th>587</th>\n",
       "      <td>Germany</td>\n",
       "      <td>2016</td>\n",
       "      <td>51879.695931</td>\n",
       "      <td>720.422643</td>\n",
       "      <td>0.014082</td>\n",
       "    </tr>\n",
       "    <tr>\n",
       "      <th>588</th>\n",
       "      <td>Germany</td>\n",
       "      <td>2017</td>\n",
       "      <td>53071.457080</td>\n",
       "      <td>1191.761149</td>\n",
       "      <td>0.022972</td>\n",
       "    </tr>\n",
       "    <tr>\n",
       "      <th>589</th>\n",
       "      <td>Germany</td>\n",
       "      <td>2018</td>\n",
       "      <td>53486.834516</td>\n",
       "      <td>415.377436</td>\n",
       "      <td>0.007827</td>\n",
       "    </tr>\n",
       "    <tr>\n",
       "      <th>590</th>\n",
       "      <td>Germany</td>\n",
       "      <td>2019</td>\n",
       "      <td>53929.630307</td>\n",
       "      <td>442.795791</td>\n",
       "      <td>0.008279</td>\n",
       "    </tr>\n",
       "    <tr>\n",
       "      <th>591</th>\n",
       "      <td>Germany</td>\n",
       "      <td>2020</td>\n",
       "      <td>51374.005220</td>\n",
       "      <td>-2555.625087</td>\n",
       "      <td>-0.047388</td>\n",
       "    </tr>\n",
       "  </tbody>\n",
       "</table>\n",
       "</div>"
      ],
      "text/plain": [
       "    Country name  Year           GDP  GDP per capita_delta_abs  \\\n",
       "578      Germany  2007  47100.610273               3151.305529   \n",
       "580      Germany  2009  45044.468251              -2598.761642   \n",
       "581      Germany  2010  46999.248284               1954.780033   \n",
       "582      Germany  2011  49757.933330               2758.685046   \n",
       "583      Germany  2012  49872.426252                114.492922   \n",
       "584      Germany  2013  49954.157192                 81.730941   \n",
       "585      Germany  2014  50845.548282                891.391089   \n",
       "586      Germany  2015  51159.273288                313.725006   \n",
       "587      Germany  2016  51879.695931                720.422643   \n",
       "588      Germany  2017  53071.457080               1191.761149   \n",
       "589      Germany  2018  53486.834516                415.377436   \n",
       "590      Germany  2019  53929.630307                442.795791   \n",
       "591      Germany  2020  51374.005220              -2555.625087   \n",
       "\n",
       "     GDP per capita_delta_rel  \n",
       "578                  0.071703  \n",
       "580                 -0.054546  \n",
       "581                  0.043397  \n",
       "582                  0.058696  \n",
       "583                  0.002301  \n",
       "584                  0.001639  \n",
       "585                  0.017844  \n",
       "586                  0.006170  \n",
       "587                  0.014082  \n",
       "588                  0.022972  \n",
       "589                  0.007827  \n",
       "590                  0.008279  \n",
       "591                 -0.047388  "
      ]
     },
     "execution_count": 43,
     "metadata": {},
     "output_type": "execute_result"
    }
   ],
   "source": [
    "pd_final[['Country name', 'Year','GDP', 'GDP per capita_delta_abs', 'GDP per capita_delta_rel']].loc[pd_final['Country name'] =='Germany']\n"
   ]
  },
  {
   "cell_type": "code",
   "execution_count": 60,
   "metadata": {},
   "outputs": [
    {
     "data": {
      "text/html": [
       "<div>\n",
       "<style scoped>\n",
       "    .dataframe tbody tr th:only-of-type {\n",
       "        vertical-align: middle;\n",
       "    }\n",
       "\n",
       "    .dataframe tbody tr th {\n",
       "        vertical-align: top;\n",
       "    }\n",
       "\n",
       "    .dataframe thead th {\n",
       "        text-align: right;\n",
       "    }\n",
       "</style>\n",
       "<table border=\"1\" class=\"dataframe\">\n",
       "  <thead>\n",
       "    <tr style=\"text-align: right;\">\n",
       "      <th></th>\n",
       "      <th>Country name</th>\n",
       "      <th>Year</th>\n",
       "      <th>Life Ladder</th>\n",
       "      <th>Log GDP per capita</th>\n",
       "      <th>Social support</th>\n",
       "      <th>Healthy life expectancy at birth</th>\n",
       "      <th>Freedom to make life choices</th>\n",
       "      <th>Generosity</th>\n",
       "      <th>Perceptions of corruption</th>\n",
       "      <th>Positive affect</th>\n",
       "      <th>...</th>\n",
       "      <th>Session</th>\n",
       "      <th>Speech</th>\n",
       "      <th>speech</th>\n",
       "      <th>GDP</th>\n",
       "      <th>GDP_delta_abs</th>\n",
       "      <th>GDP_delta_rel</th>\n",
       "      <th>GDP per capita</th>\n",
       "      <th>GDP per capita_delta_abs</th>\n",
       "      <th>GDP per capita_delta_rel</th>\n",
       "      <th>sentiment</th>\n",
       "    </tr>\n",
       "  </thead>\n",
       "  <tbody>\n",
       "    <tr>\n",
       "      <th>7</th>\n",
       "      <td>Afghanistan</td>\n",
       "      <td>2015</td>\n",
       "      <td>3.982855</td>\n",
       "      <td>7.634466</td>\n",
       "      <td>0.528597</td>\n",
       "      <td>52.599998</td>\n",
       "      <td>0.388928</td>\n",
       "      <td>0.085082</td>\n",
       "      <td>0.880638</td>\n",
       "      <td>0.491410</td>\n",
       "      <td>...</td>\n",
       "      <td>70</td>\n",
       "      <td>It gives me great pleasure, on behalf of the I...</td>\n",
       "      <td>gives great pleasure behalf islamic republic a...</td>\n",
       "      <td>2068.265670</td>\n",
       "      <td>-34.118729</td>\n",
       "      <td>-0.016229</td>\n",
       "      <td>2068.265670</td>\n",
       "      <td>-34.118729</td>\n",
       "      <td>-0.016229</td>\n",
       "      <td>negative</td>\n",
       "    </tr>\n",
       "    <tr>\n",
       "      <th>8</th>\n",
       "      <td>Afghanistan</td>\n",
       "      <td>2016</td>\n",
       "      <td>4.220169</td>\n",
       "      <td>7.629037</td>\n",
       "      <td>0.559072</td>\n",
       "      <td>52.924999</td>\n",
       "      <td>0.522566</td>\n",
       "      <td>0.047488</td>\n",
       "      <td>0.793246</td>\n",
       "      <td>0.501409</td>\n",
       "      <td>...</td>\n",
       "      <td>71</td>\n",
       "      <td>It is my distinct pleasure to attend the seven...</td>\n",
       "      <td>distinct pleasure attend seventy-first session...</td>\n",
       "      <td>2057.067910</td>\n",
       "      <td>-11.197759</td>\n",
       "      <td>-0.005414</td>\n",
       "      <td>2057.067910</td>\n",
       "      <td>-11.197759</td>\n",
       "      <td>-0.005414</td>\n",
       "      <td>negative</td>\n",
       "    </tr>\n",
       "    <tr>\n",
       "      <th>9</th>\n",
       "      <td>Afghanistan</td>\n",
       "      <td>2017</td>\n",
       "      <td>2.661718</td>\n",
       "      <td>7.629684</td>\n",
       "      <td>0.490880</td>\n",
       "      <td>53.250000</td>\n",
       "      <td>0.427011</td>\n",
       "      <td>-0.116068</td>\n",
       "      <td>0.954393</td>\n",
       "      <td>0.435270</td>\n",
       "      <td>...</td>\n",
       "      <td>72</td>\n",
       "      <td>As I stand here before the General Assembly to...</td>\n",
       "      <td>stand general assembly today reminded wise men...</td>\n",
       "      <td>2058.400385</td>\n",
       "      <td>1.332475</td>\n",
       "      <td>0.000648</td>\n",
       "      <td>2058.400385</td>\n",
       "      <td>1.332475</td>\n",
       "      <td>0.000648</td>\n",
       "      <td>neutral</td>\n",
       "    </tr>\n",
       "    <tr>\n",
       "      <th>10</th>\n",
       "      <td>Afghanistan</td>\n",
       "      <td>2018</td>\n",
       "      <td>2.694303</td>\n",
       "      <td>7.617663</td>\n",
       "      <td>0.507516</td>\n",
       "      <td>53.575001</td>\n",
       "      <td>0.373536</td>\n",
       "      <td>-0.088125</td>\n",
       "      <td>0.927606</td>\n",
       "      <td>0.384561</td>\n",
       "      <td>...</td>\n",
       "      <td>73</td>\n",
       "      <td>Allow me to start by extending my congratulati...</td>\n",
       "      <td>allow start extending congratulations ms. marí...</td>\n",
       "      <td>2033.804353</td>\n",
       "      <td>-24.596033</td>\n",
       "      <td>-0.011949</td>\n",
       "      <td>2033.804353</td>\n",
       "      <td>-24.596033</td>\n",
       "      <td>-0.011949</td>\n",
       "      <td>negative</td>\n",
       "    </tr>\n",
       "    <tr>\n",
       "      <th>11</th>\n",
       "      <td>Afghanistan</td>\n",
       "      <td>2019</td>\n",
       "      <td>2.375092</td>\n",
       "      <td>7.632903</td>\n",
       "      <td>0.419973</td>\n",
       "      <td>53.900002</td>\n",
       "      <td>0.393656</td>\n",
       "      <td>-0.103467</td>\n",
       "      <td>0.923849</td>\n",
       "      <td>0.324108</td>\n",
       "      <td>...</td>\n",
       "      <td>74</td>\n",
       "      <td>It is an honour for me to and stand at this pr...</td>\n",
       "      <td>honour stand prestigious rostrum today represe...</td>\n",
       "      <td>2065.036331</td>\n",
       "      <td>31.231979</td>\n",
       "      <td>0.015356</td>\n",
       "      <td>2065.036331</td>\n",
       "      <td>31.231979</td>\n",
       "      <td>0.015356</td>\n",
       "      <td>neutral</td>\n",
       "    </tr>\n",
       "  </tbody>\n",
       "</table>\n",
       "<p>5 rows × 23 columns</p>\n",
       "</div>"
      ],
      "text/plain": [
       "   Country name  Year  Life Ladder  Log GDP per capita  Social support  \\\n",
       "7   Afghanistan  2015     3.982855            7.634466        0.528597   \n",
       "8   Afghanistan  2016     4.220169            7.629037        0.559072   \n",
       "9   Afghanistan  2017     2.661718            7.629684        0.490880   \n",
       "10  Afghanistan  2018     2.694303            7.617663        0.507516   \n",
       "11  Afghanistan  2019     2.375092            7.632903        0.419973   \n",
       "\n",
       "    Healthy life expectancy at birth  Freedom to make life choices  \\\n",
       "7                          52.599998                      0.388928   \n",
       "8                          52.924999                      0.522566   \n",
       "9                          53.250000                      0.427011   \n",
       "10                         53.575001                      0.373536   \n",
       "11                         53.900002                      0.393656   \n",
       "\n",
       "    Generosity  Perceptions of corruption  Positive affect  ...  Session  \\\n",
       "7     0.085082                   0.880638         0.491410  ...       70   \n",
       "8     0.047488                   0.793246         0.501409  ...       71   \n",
       "9    -0.116068                   0.954393         0.435270  ...       72   \n",
       "10   -0.088125                   0.927606         0.384561  ...       73   \n",
       "11   -0.103467                   0.923849         0.324108  ...       74   \n",
       "\n",
       "                                               Speech  \\\n",
       "7   It gives me great pleasure, on behalf of the I...   \n",
       "8   It is my distinct pleasure to attend the seven...   \n",
       "9   As I stand here before the General Assembly to...   \n",
       "10  Allow me to start by extending my congratulati...   \n",
       "11  It is an honour for me to and stand at this pr...   \n",
       "\n",
       "                                               speech          GDP  \\\n",
       "7   gives great pleasure behalf islamic republic a...  2068.265670   \n",
       "8   distinct pleasure attend seventy-first session...  2057.067910   \n",
       "9   stand general assembly today reminded wise men...  2058.400385   \n",
       "10  allow start extending congratulations ms. marí...  2033.804353   \n",
       "11  honour stand prestigious rostrum today represe...  2065.036331   \n",
       "\n",
       "   GDP_delta_abs GDP_delta_rel  GDP per capita  GDP per capita_delta_abs  \\\n",
       "7     -34.118729     -0.016229     2068.265670                -34.118729   \n",
       "8     -11.197759     -0.005414     2057.067910                -11.197759   \n",
       "9       1.332475      0.000648     2058.400385                  1.332475   \n",
       "10    -24.596033     -0.011949     2033.804353                -24.596033   \n",
       "11     31.231979      0.015356     2065.036331                 31.231979   \n",
       "\n",
       "    GDP per capita_delta_rel  sentiment  \n",
       "7                  -0.016229   negative  \n",
       "8                  -0.005414   negative  \n",
       "9                   0.000648    neutral  \n",
       "10                 -0.011949   negative  \n",
       "11                  0.015356    neutral  \n",
       "\n",
       "[5 rows x 23 columns]"
      ]
     },
     "execution_count": 60,
     "metadata": {},
     "output_type": "execute_result"
    }
   ],
   "source": [
    "pd_final.head()"
   ]
  },
  {
   "cell_type": "code",
   "execution_count": 61,
   "metadata": {
    "pycharm": {
     "name": "#%%\n"
    }
   },
   "outputs": [],
   "source": [
    "pd_final.to_pickle('./Data/Throughput/Speeches_processed_Happiness.pickle')\n",
    "pd_final[['Speech', 'sentiment']].to_csv('./Data/Throughput/Speeches_BERT.csv')"
   ]
  },
  {
   "cell_type": "code",
   "execution_count": 62,
   "metadata": {},
   "outputs": [
    {
     "data": {
      "text/html": [
       "<div>\n",
       "<style scoped>\n",
       "    .dataframe tbody tr th:only-of-type {\n",
       "        vertical-align: middle;\n",
       "    }\n",
       "\n",
       "    .dataframe tbody tr th {\n",
       "        vertical-align: top;\n",
       "    }\n",
       "\n",
       "    .dataframe thead th {\n",
       "        text-align: right;\n",
       "    }\n",
       "</style>\n",
       "<table border=\"1\" class=\"dataframe\">\n",
       "  <thead>\n",
       "    <tr style=\"text-align: right;\">\n",
       "      <th></th>\n",
       "      <th>Speech</th>\n",
       "      <th>sentiment</th>\n",
       "    </tr>\n",
       "  </thead>\n",
       "  <tbody>\n",
       "    <tr>\n",
       "      <th>7</th>\n",
       "      <td>It gives me great pleasure, on behalf of the I...</td>\n",
       "      <td>negative</td>\n",
       "    </tr>\n",
       "    <tr>\n",
       "      <th>8</th>\n",
       "      <td>It is my distinct pleasure to attend the seven...</td>\n",
       "      <td>negative</td>\n",
       "    </tr>\n",
       "    <tr>\n",
       "      <th>9</th>\n",
       "      <td>As I stand here before the General Assembly to...</td>\n",
       "      <td>neutral</td>\n",
       "    </tr>\n",
       "    <tr>\n",
       "      <th>10</th>\n",
       "      <td>Allow me to start by extending my congratulati...</td>\n",
       "      <td>negative</td>\n",
       "    </tr>\n",
       "    <tr>\n",
       "      <th>11</th>\n",
       "      <td>It is an honour for me to and stand at this pr...</td>\n",
       "      <td>neutral</td>\n",
       "    </tr>\n",
       "    <tr>\n",
       "      <th>...</th>\n",
       "      <td>...</td>\n",
       "      <td>...</td>\n",
       "    </tr>\n",
       "    <tr>\n",
       "      <th>1692</th>\n",
       "      <td>Let me begin my congratulating you, Sir, on yo...</td>\n",
       "      <td>negative</td>\n",
       "    </tr>\n",
       "    <tr>\n",
       "      <th>1693</th>\n",
       "      <td>I wish to congratulate Mr. Miroslav Lajčák on ...</td>\n",
       "      <td>positive</td>\n",
       "    </tr>\n",
       "    <tr>\n",
       "      <th>1694</th>\n",
       "      <td>It is my honour and pleasure to deliver my mai...</td>\n",
       "      <td>positive</td>\n",
       "    </tr>\n",
       "    <tr>\n",
       "      <th>1695</th>\n",
       "      <td>Allow me to congratulate Mr. Tijjani Muhammad-...</td>\n",
       "      <td>negative</td>\n",
       "    </tr>\n",
       "    <tr>\n",
       "      <th>1696</th>\n",
       "      <td>Your Excellency, Ambassador Volkan Bozkir, Pre...</td>\n",
       "      <td>negative</td>\n",
       "    </tr>\n",
       "  </tbody>\n",
       "</table>\n",
       "<p>656 rows × 2 columns</p>\n",
       "</div>"
      ],
      "text/plain": [
       "                                                 Speech sentiment\n",
       "7     It gives me great pleasure, on behalf of the I...  negative\n",
       "8     It is my distinct pleasure to attend the seven...  negative\n",
       "9     As I stand here before the General Assembly to...   neutral\n",
       "10    Allow me to start by extending my congratulati...  negative\n",
       "11    It is an honour for me to and stand at this pr...   neutral\n",
       "...                                                 ...       ...\n",
       "1692  Let me begin my congratulating you, Sir, on yo...  negative\n",
       "1693  I wish to congratulate Mr. Miroslav Lajčák on ...  positive\n",
       "1694  It is my honour and pleasure to deliver my mai...  positive\n",
       "1695  Allow me to congratulate Mr. Tijjani Muhammad-...  negative\n",
       "1696  Your Excellency, Ambassador Volkan Bozkir, Pre...  negative\n",
       "\n",
       "[656 rows x 2 columns]"
      ]
     },
     "execution_count": 62,
     "metadata": {},
     "output_type": "execute_result"
    }
   ],
   "source": [
    "pd_final[['Speech', 'sentiment']]"
   ]
  }
 ],
 "metadata": {
  "kernelspec": {
   "display_name": "Python 3 (ipykernel)",
   "language": "python",
   "name": "python3"
  },
  "language_info": {
   "codemirror_mode": {
    "name": "ipython",
    "version": 3
   },
   "file_extension": ".py",
   "mimetype": "text/x-python",
   "name": "python",
   "nbconvert_exporter": "python",
   "pygments_lexer": "ipython3",
   "version": "3.8.9"
  }
 },
 "nbformat": 4,
 "nbformat_minor": 1
}